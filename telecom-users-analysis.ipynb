{
 "cells": [
  {
   "cell_type": "code",
   "execution_count": null,
   "metadata": {
    "scrolled": true
   },
   "outputs": [],
   "source": [
    "# importando e visualizando a base de dados\n",
    "import pandas as pd\n",
    "\n",
    "df = pd.read_csv(\"telecom_users.csv\")\n",
    "df = df.drop([\"Unnamed: 0\"], axis=1)\n",
    "display(df)\n"
   ]
  },
  {
   "cell_type": "code",
   "execution_count": null,
   "metadata": {},
   "outputs": [],
   "source": [
    "# tratando dados usando pandas\n",
    "\n",
    "# limpando a base de dados\n",
    "\n",
    "# transformando a coluna que deveria ser numero e esta como texto(object)/ trabalhando com vlor da coluna\n",
    "df[\"TotalGasto\"] = pd.to_numeric(df[\"TotalGasto\"], errors=\"coerce\")\n",
    "\n",
    "# remover a coluna 100% vazia / trabalhando com alteracao da tabela\n",
    "df = df.dropna(how=\"all\", axis=1)\n",
    "\n",
    "# remover a linha que tem um ou mais itens vazios\n",
    "df = df.dropna() # df.dropna( how=\"any\", axis=0)\n",
    "print(df.info())\n",
    "\n"
   ]
  },
  {
   "cell_type": "code",
   "execution_count": null,
   "metadata": {},
   "outputs": [],
   "source": [
    "# analises dos dados\n",
    "\n",
    "# analise exploratoria\n",
    "\n",
    "display(df[\"Churn\"].value_counts())\n",
    "\n",
    "# formantando dados\n",
    "display(df[\"Churn\"].value_counts(normalize=True).map(\"{:.1%}\".format))\n",
    "\n",
    "    "
   ]
  },
  {
   "cell_type": "code",
   "execution_count": null,
   "metadata": {},
   "outputs": [],
   "source": [
    "# analise grafica usando a biblioteca plotly\n",
    "\n",
    "import plotly.express as px\n",
    "\n",
    "for column in df:\n",
    "    if column != \"IDCliente\":\n",
    "        # cria e mostrar a figura como histogram\n",
    "        fig = px.histogram(df, x= column, color=\"Churn\")\n",
    "        fig.show()\n",
    "        display(df.pivot_table(index=\"Churn\", columns= column, aggfunc=\"count\")[\"IDCliente\"])"
   ]
  }
 ],
 "metadata": {
  "kernelspec": {
   "display_name": "Python 3",
   "language": "python",
   "name": "python3"
  },
  "language_info": {
   "codemirror_mode": {
    "name": "ipython",
    "version": 3
   },
   "file_extension": ".py",
   "mimetype": "text/x-python",
   "name": "python",
   "nbconvert_exporter": "python",
   "pygments_lexer": "ipython3",
   "version": "3.8.5"
  }
 },
 "nbformat": 4,
 "nbformat_minor": 4
}
